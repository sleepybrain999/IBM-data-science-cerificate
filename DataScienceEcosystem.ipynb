{
 "cells": [
  {
   "cell_type": "markdown",
   "id": "66045e0e",
   "metadata": {},
   "source": [
    "# DataScienceEcosystem"
   ]
  },
  {
   "cell_type": "markdown",
   "id": "1a705686",
   "metadata": {},
   "source": [
    "In this notebook, Data Science Tools and Ecosystem are summarized."
   ]
  },
  {
   "cell_type": "markdown",
   "id": "1722b697",
   "metadata": {},
   "source": [
    "**Objectives:**\n",
    "- List popular languages for Data Science. \n",
    "- List popular libraries for Data Science.\n",
    "- List popular tools for Data Science.\n",
    "- Demonstrate the use of arithmetic expressions in Python"
   ]
  },
  {
   "cell_type": "markdown",
   "id": "0f1a2b66",
   "metadata": {},
   "source": [
    "## Author\n",
    "\n",
    "Shu Ting Wong"
   ]
  },
  {
   "cell_type": "markdown",
   "id": "b0af286f",
   "metadata": {},
   "source": [
    "Some of the popular languages that Data Scientists use are:\n",
    "1. Python\n",
    "2. R\n",
    "3. SQL"
   ]
  },
  {
   "cell_type": "markdown",
   "id": "40b61130",
   "metadata": {},
   "source": [
    "Some of the commonly used libraries used by Data Scientists include:\n",
    "1. Pandas           \n",
    "2. Numpy             \n",
    "3. Scikit-learn      "
   ]
  },
  {
   "cell_type": "markdown",
   "id": "f49d40f3",
   "metadata": {},
   "source": [
    "|Data Science Tools|\n",
    "|------------------|\n",
    "|Hadoop            |\n",
    "|MySQL             |\n",
    "|PostgreSQL        |"
   ]
  },
  {
   "cell_type": "markdown",
   "id": "d55f198d",
   "metadata": {},
   "source": [
    "### Below are a few examples of evaluating arithmetic expressions in Python\n",
    "- `+` means addition\n",
    "- `-` means subtraction\n",
    "- `*` means multiplication\n",
    "- `/` means division\n",
    "- `//` means floor division\n"
   ]
  },
  {
   "cell_type": "code",
   "execution_count": null,
   "id": "e5c458f9",
   "metadata": {},
   "outputs": [
    {
     "name": "stdout",
     "output_type": "stream",
     "text": [
      "17\n"
     ]
    }
   ],
   "source": [
    "x=(3*4)+5   #This a simple arithmetic expression to mutiply then add integers.\n",
    "print(x)"
   ]
  },
  {
   "cell_type": "code",
   "execution_count": 3,
   "id": "eb67173c",
   "metadata": {},
   "outputs": [
    {
     "name": "stdout",
     "output_type": "stream",
     "text": [
      "3.3333333333333335\n"
     ]
    }
   ],
   "source": [
    "minutes = 200\n",
    "hours = minutes/60 #This will convert 200 minutes to hours by diving by 60\n",
    "print(hours)"
   ]
  }
 ],
 "metadata": {
  "kernelspec": {
   "display_name": "Python 3",
   "language": "python",
   "name": "python3"
  },
  "language_info": {
   "codemirror_mode": {
    "name": "ipython",
    "version": 3
   },
   "file_extension": ".py",
   "mimetype": "text/x-python",
   "name": "python",
   "nbconvert_exporter": "python",
   "pygments_lexer": "ipython3",
   "version": "3.11.9"
  }
 },
 "nbformat": 4,
 "nbformat_minor": 5
}
